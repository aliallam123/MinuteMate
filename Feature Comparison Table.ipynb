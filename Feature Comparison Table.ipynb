{
 "cells": [
  {
   "cell_type": "markdown",
   "id": "92813f83-33bf-403c-a757-d3e1b58b947e",
   "metadata": {},
   "source": [
    "# MinuteMate vs Competitors – Feature Comparison Table\n",
    "### This notebook creates a visual comparison between MinuteMate and existing AI meeting tools.\n",
    "Data is based on public documentation for Otter.ai, Fireflies.ai, and Microsoft Copilot.\n",
    "\n",
    "MinuteMate's features reflect proposed capabilities of the tool developed in this project.\n"
   ]
  },
  {
   "cell_type": "code",
   "execution_count": 7,
   "id": "407998bd-3b16-40a9-a65e-91ae8180a8b1",
   "metadata": {},
   "outputs": [
    {
     "data": {
      "text/html": [
       "<style type=\"text/css\">\n",
       "#T_63f57 th {\n",
       "  text-align: center;\n",
       "}\n",
       "#T_63f57 th.row_heading {\n",
       "  text-align: center;\n",
       "}\n",
       "#T_63f57_row0_col0, #T_63f57_row0_col1, #T_63f57_row0_col2, #T_63f57_row0_col3, #T_63f57_row1_col0, #T_63f57_row1_col1, #T_63f57_row1_col2, #T_63f57_row1_col3, #T_63f57_row2_col0, #T_63f57_row2_col1, #T_63f57_row2_col2, #T_63f57_row2_col3, #T_63f57_row3_col0, #T_63f57_row3_col1, #T_63f57_row3_col2, #T_63f57_row3_col3, #T_63f57_row4_col0, #T_63f57_row4_col1, #T_63f57_row4_col2, #T_63f57_row4_col3, #T_63f57_row5_col0, #T_63f57_row5_col1, #T_63f57_row5_col2, #T_63f57_row5_col3 {\n",
       "  text-align: center;\n",
       "}\n",
       "</style>\n",
       "<table id=\"T_63f57\">\n",
       "  <thead>\n",
       "    <tr>\n",
       "      <th class=\"blank level0\" >&nbsp;</th>\n",
       "      <th id=\"T_63f57_level0_col0\" class=\"col_heading level0 col0\" >Otter.ai</th>\n",
       "      <th id=\"T_63f57_level0_col1\" class=\"col_heading level0 col1\" >Fireflies.ai</th>\n",
       "      <th id=\"T_63f57_level0_col2\" class=\"col_heading level0 col2\" >Microsoft Copilot</th>\n",
       "      <th id=\"T_63f57_level0_col3\" class=\"col_heading level0 col3\" >MinuteMate</th>\n",
       "    </tr>\n",
       "    <tr>\n",
       "      <th class=\"index_name level0\" >Feature / Tool</th>\n",
       "      <th class=\"blank col0\" >&nbsp;</th>\n",
       "      <th class=\"blank col1\" >&nbsp;</th>\n",
       "      <th class=\"blank col2\" >&nbsp;</th>\n",
       "      <th class=\"blank col3\" >&nbsp;</th>\n",
       "    </tr>\n",
       "  </thead>\n",
       "  <tbody>\n",
       "    <tr>\n",
       "      <th id=\"T_63f57_level0_row0\" class=\"row_heading level0 row0\" >Platform Integration</th>\n",
       "      <td id=\"T_63f57_row0_col0\" class=\"data row0 col0\" >Limited</td>\n",
       "      <td id=\"T_63f57_row0_col1\" class=\"data row0 col1\" >Limited</td>\n",
       "      <td id=\"T_63f57_row0_col2\" class=\"data row0 col2\" >Microsoft only</td>\n",
       "      <td id=\"T_63f57_row0_col3\" class=\"data row0 col3\" >Cross-platform</td>\n",
       "    </tr>\n",
       "    <tr>\n",
       "      <th id=\"T_63f57_level0_row1\" class=\"row_heading level0 row1\" >Real-time Processing</th>\n",
       "      <td id=\"T_63f57_row1_col0\" class=\"data row1 col0\" >Partial</td>\n",
       "      <td id=\"T_63f57_row1_col1\" class=\"data row1 col1\" >Yes</td>\n",
       "      <td id=\"T_63f57_row1_col2\" class=\"data row1 col2\" >Yes</td>\n",
       "      <td id=\"T_63f57_row1_col3\" class=\"data row1 col3\" >Yes (segmented)</td>\n",
       "    </tr>\n",
       "    <tr>\n",
       "      <th id=\"T_63f57_level0_row2\" class=\"row_heading level0 row2\" >Context Filtering</th>\n",
       "      <td id=\"T_63f57_row2_col0\" class=\"data row2 col0\" >No</td>\n",
       "      <td id=\"T_63f57_row2_col1\" class=\"data row2 col1\" >No</td>\n",
       "      <td id=\"T_63f57_row2_col2\" class=\"data row2 col2\" >Basic</td>\n",
       "      <td id=\"T_63f57_row2_col3\" class=\"data row2 col3\" >Advanced</td>\n",
       "    </tr>\n",
       "    <tr>\n",
       "      <th id=\"T_63f57_level0_row3\" class=\"row_heading level0 row3\" >Emotion Detection</th>\n",
       "      <td id=\"T_63f57_row3_col0\" class=\"data row3 col0\" >No</td>\n",
       "      <td id=\"T_63f57_row3_col1\" class=\"data row3 col1\" >No</td>\n",
       "      <td id=\"T_63f57_row3_col2\" class=\"data row3 col2\" >No</td>\n",
       "      <td id=\"T_63f57_row3_col3\" class=\"data row3 col3\" >Yes</td>\n",
       "    </tr>\n",
       "    <tr>\n",
       "      <th id=\"T_63f57_level0_row4\" class=\"row_heading level0 row4\" >Data Privacy Options</th>\n",
       "      <td id=\"T_63f57_row4_col0\" class=\"data row4 col0\" >Cloud only</td>\n",
       "      <td id=\"T_63f57_row4_col1\" class=\"data row4 col1\" >Cloud only</td>\n",
       "      <td id=\"T_63f57_row4_col2\" class=\"data row4 col2\" >Enterprise-only</td>\n",
       "      <td id=\"T_63f57_row4_col3\" class=\"data row4 col3\" >Local or cloud</td>\n",
       "    </tr>\n",
       "    <tr>\n",
       "      <th id=\"T_63f57_level0_row5\" class=\"row_heading level0 row5\" >Style & Language</th>\n",
       "      <td id=\"T_63f57_row5_col0\" class=\"data row5 col0\" >Limited</td>\n",
       "      <td id=\"T_63f57_row5_col1\" class=\"data row5 col1\" >Moderate</td>\n",
       "      <td id=\"T_63f57_row5_col2\" class=\"data row5 col2\" >Moderate</td>\n",
       "      <td id=\"T_63f57_row5_col3\" class=\"data row5 col3\" >Full</td>\n",
       "    </tr>\n",
       "  </tbody>\n",
       "</table>\n"
      ],
      "text/plain": [
       "<pandas.io.formats.style.Styler at 0x232b71a85c0>"
      ]
     },
     "execution_count": 7,
     "metadata": {},
     "output_type": "execute_result"
    }
   ],
   "source": [
    "import pandas as pd\n",
    "\n",
    "# Define data\n",
    "data = {\n",
    "    \"Feature / Tool\": [\n",
    "        \"Platform Integration\", \n",
    "        \"Real-time Processing\", \n",
    "        \"Context Filtering\", \n",
    "        \"Emotion Detection\", \n",
    "        \"Data Privacy Options\", \n",
    "        \"Style & Language\"\n",
    "    ],\n",
    "    \"Otter.ai\": [\"Limited\", \"Partial\", \"No\", \"No\", \"Cloud only\", \"Limited\"],\n",
    "    \"Fireflies.ai\": [\"Limited\", \"Yes\", \"No\", \"No\", \"Cloud only\", \"Moderate\"],\n",
    "    \"Microsoft Copilot\": [\"Microsoft only\", \"Yes\", \"Basic\", \"No\", \"Enterprise-only\", \"Moderate\"],\n",
    "    \"MinuteMate\": [\"Cross-platform\", \"Yes (segmented)\", \"Advanced\", \"Yes\", \"Local or cloud\", \"Full\"]\n",
    "}\n",
    "\n",
    "# Create DataFrame and set index\n",
    "df = pd.DataFrame(data)\n",
    "df.set_index(\"Feature / Tool\", inplace=True)\n",
    "\n",
    "# Center align everything\n",
    "df.style.set_properties(**{'text-align': 'center'}).set_table_styles([\n",
    "    {'selector': 'th', 'props': [('text-align', 'center')]},\n",
    "    {'selector': 'th.row_heading', 'props': [('text-align', 'center')]}\n",
    "])"
   ]
  }
 ],
 "metadata": {
  "kernelspec": {
   "display_name": "Python 3 (ipykernel)",
   "language": "python",
   "name": "python3"
  },
  "language_info": {
   "codemirror_mode": {
    "name": "ipython",
    "version": 3
   },
   "file_extension": ".py",
   "mimetype": "text/x-python",
   "name": "python",
   "nbconvert_exporter": "python",
   "pygments_lexer": "ipython3",
   "version": "3.12.4"
  }
 },
 "nbformat": 4,
 "nbformat_minor": 5
}
